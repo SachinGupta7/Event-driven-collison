{
 "cells": [
  {
   "cell_type": "markdown",
   "metadata": {},
   "source": [
    "# ADJUST THE PARAMETER AND THEN  RUN THE SECOND CELL "
   ]
  },
  {
   "cell_type": "code",
   "execution_count": 12,
   "metadata": {},
   "outputs": [
    {
     "data": {
      "application/vnd.jupyter.widget-view+json": {
       "model_id": "8f33403f3c6942bb9f63574de5a3600f",
       "version_major": 2,
       "version_minor": 0
      },
      "text/plain": [
       "HBox(children=(Text(value='Number of events', disabled=True), FloatSlider(value=5000.0, layout=Layout(width='7…"
      ]
     },
     "metadata": {},
     "output_type": "display_data"
    },
    {
     "data": {
      "application/vnd.jupyter.widget-view+json": {
       "model_id": "8ac4ee51630e4fe18573d9364c1820cf",
       "version_major": 2,
       "version_minor": 0
      },
      "text/plain": [
       "interactive(children=(FloatSlider(value=1.0, description='Length of square', layout=Layout(width='600px'), max…"
      ]
     },
     "metadata": {},
     "output_type": "display_data"
    }
   ],
   "source": [
    "\n",
    "\n",
    "import numpy as np\n",
    "import matplotlib.pyplot as plt\n",
    "from matplotlib import patches as pt\n",
    "from IPython.display import display\n",
    "from ipywidgets import*\n",
    "from tqdm import tqdm\n",
    "\n",
    "#####  Function to compute time for wall collision ######\n",
    "def wall_time(coord, velcomp, rad,L_box):  \n",
    "    if velcomp > 0.0:\n",
    "        del_t = (L_box - rad - coord) / velcomp\n",
    "    elif velcomp < 0.0:\n",
    "        del_t = (coord - rad) / abs(velcomp)\n",
    "    else:\n",
    "        del_t = float('inf')\n",
    "    return del_t\n",
    "\n",
    "\n",
    "# Function to calculate time it takes for a pair of atoms to collide. \n",
    "# pos1 and pos2 are positions of atoms 1 and 2, vel1 and vel2 are their \n",
    "# velocities. rad is the radius of the atoms. \n",
    "def pair_time(pos1, vel1, pos2, vel2, rad):  \n",
    "    rel_pos = pos2 - pos1\n",
    "    rel_vel = vel2 - vel1\n",
    "    rel_dist_squar = np.dot(rel_pos,rel_pos)\n",
    "    rel_speed_squar = np.dot(rel_vel,rel_vel)\n",
    "    scal_prod = np.dot(rel_pos,rel_vel)\n",
    "    a = scal_prod ** 2 - rel_speed_squar * ( rel_dist_squar - 4.0 * rad **2)\n",
    "    if a > 0.0 and scal_prod < 0.0: ## Conditions for collision.\n",
    "        del_t = - (scal_prod + np.sqrt(a)) / rel_speed_squar ## Collision time.\n",
    "    else:\n",
    "        del_t = float('inf')\n",
    "    return del_t\n",
    "\n",
    "\n",
    "## function do collect data in equal interval of time\n",
    "def Snap_Function(next_event,T0,velocities,Snap_Vel):\n",
    "    if (dtm < next_event and T0==0):\n",
    "        t = 0\n",
    "        while(t<next_event):\n",
    "            t += dtm\n",
    "            Snap_Vel = np.hstack((Snap_Vel,np.sqrt(np.sum(velocities*velocities,axis = 1))))\n",
    "        k12 = next_event-t\n",
    "        T0 = dtm-k12\n",
    "        \n",
    "    elif(dtm < next_event and T0>0):\n",
    "        Snap_Vel = np.hstack((Snap_Vel,np.sqrt(np.sum(velocities*velocities,axis = 1))))\n",
    "        t = T0\n",
    "        while(t<next_event):\n",
    "            t += dtm    \n",
    "            Snap_Vel = np.hstack((Snap_Vel,np.sqrt(np.sum(velocities*velocities,axis = 1))))\n",
    "        k12 = next_event-t\n",
    "        T0 = dtm-k12    \n",
    "     \n",
    "    elif(dtm>next_event and T0< next_event):\n",
    "        Snap_Vel = np.hstack((Snap_Vel,np.sqrt(np.sum(velocities*velocities,axis = 1))))\n",
    "        k12  = next_event-T0\n",
    "        T0 = dtm-k12\n",
    "    else:\n",
    "        T0 = T0-next_event \n",
    "    return Snap_Vel,T0;\n",
    "\n",
    "    \n",
    "    \n",
    "    \n",
    "    \n",
    "n_events_wd = FloatSlider(step = 500, value = 5000,min = 500,max = 15000,layout={'width':'700px'})\n",
    "display(HBox((Text(value = \"Number of events\",disabled=True),n_events_wd)))\n",
    "def f_main(L,N,rho,spac):\n",
    "    global L_box,Ratom,positions,velocities,Natoms,L_box\n",
    "  \n",
    "    \n",
    "    Natoms = N*N\n",
    "    Ratom = np.sqrt((rho*L*L)/(Natoms*np.pi))\n",
    "    Datm = 2*Ratom\n",
    "    print (\"Radius of disk = \" ,Ratom)\n",
    "    print(\"AFTER FIXING THE CONFIGURATION RUN THE CELL BELOW\")\n",
    "  \n",
    "    L_box= L\n",
    "\n",
    "    \n",
    "    pos = np.array([],dtype = float)\n",
    "    for i in range(0,N):\n",
    "        for j in range(0,N):\n",
    "          \n",
    "            pos = np.append(pos,((2+i*spac)*Ratom,(2+j*spac)*Ratom))\n",
    "       \n",
    "    positions = pos.reshape(Natoms,2)   \n",
    "\n",
    "    velocities = np.random.uniform(low = -2.0,high= 2.0,size = (Natoms,2))\n",
    "\n",
    "\n",
    "    \n",
    "    fig,ax = plt.subplots(figsize = (10,8))\n",
    "    ax.set_xlim([0,L])\n",
    "    ax.set_ylim([0,L])\n",
    "    \n",
    "    ax.set_title(\"Initial configuration\")\n",
    "     \n",
    "    for x,y in positions:\n",
    "        PP = pt.Circle((x,y),radius = Ratom,color = 'c')\n",
    "        ax.add_patch(PP)\n",
    "    \n",
    "    \n",
    "    \n",
    "    for i in range(N*N):\n",
    "        QQ = pt.Arrow(positions[i,0],positions[i,1],0.05*velocities[i,0],0.05*velocities[i,1],width = 0.07,color = 'k')\n",
    "        ax.add_patch(QQ)\n",
    "    plt.show()\n",
    "\n",
    "\n",
    "    \n",
    "   \n",
    "\n",
    " \n",
    "ws = interact(f_main, L = FloatSlider(description  = \"Length of square\",value = 1.0,min = 0.1,max = 10.0,layout = {'width':'600px'}),\n",
    "                        N = IntSlider(description = \"N*N atoms\",value = 2,min = 2,max = 10,layout = {'width':'600px'}),\n",
    "                        rho = FloatSlider(description = 'density',value = 0.1,min = 0.1,max = 0.9,layout = {'width':'600px'}),\n",
    "                        spac = FloatSlider(description = 'adjusting space',value = 3.0,min = 0.1,max = 20.0,layout = {'width':'600px'}),\n",
    "                        \n",
    "                        )"
   ]
  },
  {
   "cell_type": "markdown",
   "metadata": {},
   "source": [
    "# PLOT SPEED DISTRIBUTION FUNCTION"
   ]
  },
  {
   "cell_type": "code",
   "execution_count": 15,
   "metadata": {},
   "outputs": [
    {
     "name": "stderr",
     "output_type": "stream",
     "text": [
      "100%|█████████████████████████████████████████████████████████████████████████████| 7500/7500 [00:42<00:00, 177.98it/s]\n"
     ]
    },
    {
     "data": {
      "image/png": "[encoded data removed]",
      "text/plain": [
       "<Figure size 864x648 with 1 Axes>"
      ]
     },
     "metadata": {
      "needs_background": "light"
     },
     "output_type": "display_data"
    }
   ],
   "source": [
    "\n",
    "pairs = [[i,j] for i in range(Natoms) for j in range(i+1, Natoms)] \n",
    "\n",
    "Datm = 2*Ratom\n",
    "\n",
    "Snap_Vel = np.sqrt(np.sum(velocities*velocities,axis = 1))\n",
    "\n",
    "\n",
    "T0 = 0\n",
    "t = 0.0 # Initial time.\n",
    "\n",
    "Vrms = np.sum(velocities**2,axis = 1)\n",
    "Vrms = np.average(Vrms)\n",
    "\n",
    "dtm = 1/((np.sqrt(2))*np.pi*Natoms*Datm*Datm*Vrms)\n",
    "dtm  = 0.07*dtm    ###taking sampling time to be a fraction of mean-free-path\n",
    "\n",
    "n_events = int(n_events_wd.value)\n",
    "\n",
    "\n",
    "\n",
    "for event in tqdm (range(n_events)):\n",
    " \n",
    "    wall_times = [wall_time(positions[i,j], velocities[i][j], Ratom,L_box) for i in range(Natoms) for j in range(2)] \n",
    "    # Pair collision times\n",
    "    pair_times = [pair_time(positions[i], velocities[i], positions[j], velocities[j], Ratom) for i,j in pairs] \n",
    "    # The next collision event is the minimum of wall and pair collision times.\n",
    "\n",
    "    next_event = min(wall_times + pair_times)  \n",
    "\n",
    "\n",
    "\n",
    "    Snap_Vel,T0 = Snap_Function(next_event,T0,velocities,Snap_Vel)\n",
    "\n",
    "\n",
    "    positions += velocities*next_event # Evolve positions to collision event\n",
    "\n",
    "    if (min(wall_times) < min(pair_times)): # Check if next event is a collision with a wall\n",
    "        wall_index = wall_times.index(next_event)\n",
    "        particle, component = wall_index/2, wall_index%2\n",
    "        velocities[int(particle),int(component)] *= -1.0 ## Velocity component normal to wall changes sign\n",
    "    else:\n",
    "        pair_index = pair_times.index(next_event)\n",
    "        particle_1, particle_2 = pairs[pair_index] # Indices of atoms participating in collision.\n",
    "        rel_pos = positions[particle_2] - positions[particle_1]\n",
    "        rel_vel = velocities[particle_2] - velocities[particle_1]\n",
    "        distance = np.sqrt(np.dot(rel_pos,rel_pos))\n",
    "        unit_perp = rel_pos/distance\n",
    "        scal_prod = np.dot(rel_vel,unit_perp)\n",
    "        velocities[particle_1] += scal_prod*unit_perp # Change in velocities of atoms colliding with each other\n",
    "        velocities[particle_2] -= scal_prod*unit_perp\n",
    "\n",
    "        \n",
    "plt.figure(figsize = (12,9))                                                                                            \n",
    "\n",
    "\n",
    "plt.hist(Snap_Vel,bins  = 45,density=True) ##normalized histogram\n",
    "\n",
    "plt.show()        \n"
   ]
  }
 ],
 "metadata": {
  "kernelspec": {
   "display_name": "Python 3",
   "language": "python",
   "name": "python3"
  },
  "language_info": {
   "codemirror_mode": {
    "name": "ipython",
    "version": 3
   },
   "file_extension": ".py",
   "mimetype": "text/x-python",
   "name": "python",
   "nbconvert_exporter": "python",
   "pygments_lexer": "ipython3",
   "version": "3.7.7"
  },
  "latex_envs": {
   "LaTeX_envs_menu_present": true,
   "autoclose": false,
   "autocomplete": false,
   "bibliofile": "biblio.bib",
   "cite_by": "apalike",
   "current_citInitial": 1,
   "eqLabelWithNumbers": true,
   "eqNumInitial": 1,
   "hotkeys": {
    "equation": "Ctrl-E",
    "itemize": "Ctrl-I"
   },
   "labels_anchors": false,
   "latex_user_defs": false,
   "report_style_numbering": false,
   "user_envs_cfg": false
  }
 },
 "nbformat": 4,
 "nbformat_minor": 2
}
